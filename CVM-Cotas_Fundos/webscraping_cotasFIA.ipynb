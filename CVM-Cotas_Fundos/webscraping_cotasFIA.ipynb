{
 "cells": [
  {
   "cell_type": "markdown",
   "metadata": {},
   "source": [
    "# Projeto Webscraping: Cálculo de Rentabilidade Diária e Anual de Fundos de Ações\n",
    "\n",
    "**Autor:** Eduardo B. Scheffer\n",
    "\n",
    "**Data:** 31/08/2020\n",
    "\n",
    "**Objetivo:** Obter rentabilidade diária e YTD de uma lista de fundos de ações:\n",
    "\n",
    "* Constellation Ações FIC FIA\n",
    "* Sqadra Long-Only FIC FIA\n",
    "* Bogari Value FIC FIA\n",
    "* Núcleo FIC FIA\n",
    "* Dynamo Cougar FIA\n",
    "\n",
    "**Observação:** Abrir o arquivo \"Projeto Brasil Capital.xlsx\" antes de e após rodar este programa, para verificar sua funcionalidade"
   ]
  },
  {
   "cell_type": "markdown",
   "metadata": {},
   "source": [
    "---\n",
    "## Método I:\n",
    "    Extração dos dados das cotas diretamente de fontes públicas"
   ]
  },
  {
   "cell_type": "markdown",
   "metadata": {},
   "source": [
    "### Importar bibliotecas:"
   ]
  },
  {
   "cell_type": "code",
   "execution_count": 2,
   "metadata": {},
   "outputs": [],
   "source": [
    "import pandas as pd\n",
    "from datetime import date\n",
    "from pandas import ExcelWriter\n",
    "# !pip install openpyxl --> \"descomente\" essa linha caso não tenha o openpyxl instalado\n",
    "from openpyxl import load_workbook"
   ]
  },
  {
   "cell_type": "markdown",
   "metadata": {},
   "source": [
    "### Declarar CNPJ dos fundos:"
   ]
  },
  {
   "cell_type": "code",
   "execution_count": 3,
   "metadata": {},
   "outputs": [],
   "source": [
    "fundos = {'Nome Fundo': ['Constellation Ações FIC FIA', 'Sqadra Long-Only FIC FIA', 'Bogari Value FIC FIA', 'Núcleo FIC FIA', 'Dynamo Cougar FIA'],\n",
    "          'CNPJ': ['16.948.298/0001-04', '09.412.822/0001-54', '08.323.402/0001-39', '14.068.366/0001-07', '73.232.530/0001-39']         \n",
    "         }\n",
    "fundos = pd.DataFrame(fundos, columns = ['Nome Fundo', 'CNPJ'])\n",
    "fundos['Rentabilidade diária'] = \"\"\n",
    "fundos['Rentabilidade YTD'] = \"\""
   ]
  },
  {
   "cell_type": "markdown",
   "metadata": {},
   "source": [
    "### Obter dados através da CVM - Dados Abertos"
   ]
  },
  {
   "cell_type": "code",
   "execution_count": 4,
   "metadata": {},
   "outputs": [],
   "source": [
    "def consulta_cvm(x):\n",
    "    url = 'http://dados.cvm.gov.br/dados/FI/DOC/INF_DIARIO/DADOS/inf_diario_fi_{}.csv'.format(x)\n",
    "    df = pd.read_csv(url, sep=\";\", usecols = [\"CNPJ_FUNDO\", \"DT_COMPTC\", \"VL_QUOTA\"])\n",
    "    return df"
   ]
  },
  {
   "cell_type": "markdown",
   "metadata": {},
   "source": [
    "### Obter cotas de fundos da CVM referentes do ano atual (YTD)"
   ]
  },
  {
   "cell_type": "code",
   "execution_count": null,
   "metadata": {},
   "outputs": [],
   "source": [
    "year = date.today().year # Ano atual\n",
    "month = date.today().month # Mês atual\n",
    "day = date.today().day # Dia atual\n",
    "\n",
    "if day ==1: month = month - 1\n",
    "\n",
    "for m in range (1,month+1):\n",
    "    \n",
    "    yyyy = str(year)\n",
    "    if m < 10: mm = '0'+str(m)\n",
    "    else: mm = str(m)\n",
    "    \n",
    "    data = yyyy+mm # Ano e mes para substituir no url\n",
    "    \n",
    "    cvm_m = consulta_cvm(data)\n",
    "    if m == 1:\n",
    "        firstD = cvm_m['DT_COMPTC'].iloc[0] # Verifica qual é o primeiro dia do ano\n",
    "        lastD = cvm_m['DT_COMPTC'].iloc[len(cvm_m)-1] # Verifica qual é o primeiro dia do ano\n",
    "        cvm = cvm_m\n",
    "    else:\n",
    "        cvm = pd.concat([cvm,cvm_m])"
   ]
  },
  {
   "cell_type": "markdown",
   "metadata": {},
   "source": [
    "### Obter as cotas dos fundos selecionados"
   ]
  },
  {
   "cell_type": "code",
   "execution_count": null,
   "metadata": {},
   "outputs": [],
   "source": [
    "quotas_fundos = {} #array de dataframes\n",
    "for x in range(0, len(fundos)):\n",
    "    cnpj = fundos['CNPJ'].iloc[x]\n",
    "    quotas_fundos[x] = pd.DataFrame(cvm.loc[cvm['CNPJ_FUNDO'] == cnpj]) # Copia nova df para cada fundo com as informações da CVM relativos ao seu CNPJ\n",
    "    quotas_fundos[x].drop('CNPJ_FUNDO', axis=1, inplace=True) # Deleta coluna do CNPJ para \"limpar\" a df (já que todas as linhas serão iguais)\n",
    "    quotas_fundos[x].reset_index(drop=True,inplace=True) # Renumera os indices, para começar do 0\n",
    "\n",
    "    "
   ]
  },
  {
   "cell_type": "markdown",
   "metadata": {},
   "source": [
    "### Calcular as variações percentuais diárias da cota de cada fundo"
   ]
  },
  {
   "cell_type": "code",
   "execution_count": null,
   "metadata": {},
   "outputs": [],
   "source": [
    "for x in range(0, len(quotas_fundos)):\n",
    "    quotas_fundos[x].insert(len(quotas_fundos[x].columns),'VAR_DIAR','') # Insere nova coluna para a rentabilidade diária\n",
    "    quotas_fundos[x].insert(len(quotas_fundos[x].columns),'VAR_CUMU','') # Insere nova coluna para a rentabilidade cumulativa\n",
    "    i=0\n",
    "    while i+1 < len(quotas_fundos[x]):\n",
    "        if i == 0:\n",
    "            quotas_fundos[x].at[i,'VAR_DIAR'] = 0 # Normaliza a primeira data com rentabilidade diária 0\n",
    "            quotas_fundos[x].at[i,'VAR_CUMU'] = 0 # Normaliza a primeira data com rentabilidade acumulada 0\n",
    "        i = i+1;\n",
    "        rd1 = float(str(quotas_fundos[x].at[i-1,'VL_QUOTA'])) # Valor da cota do dia anterios\n",
    "        rd2 = float(str(quotas_fundos[x].at[i,'VL_QUOTA'])) # Valor da cota do dia\n",
    "        vd = rd2 / rd1 - 1\n",
    "        quotas_fundos[x].at[i,'VAR_DIAR'] = vd # Calcula a variação do valor da cota (rentabilidade)\n",
    "        quotas_fundos[x].at[i,'VAR_CUMU'] = (1 + vd) * (1 + quotas_fundos[x].at[i-1,'VAR_CUMU']) -1 # Calcula a variação do valor da cota (rentabilidade)\n",
    "        "
   ]
  },
  {
   "cell_type": "markdown",
   "metadata": {},
   "source": [
    "### Calcular a rentabilidade diária mais recente e a rentabilidade do ano (YTD) para os fundos selecionados"
   ]
  },
  {
   "cell_type": "code",
   "execution_count": null,
   "metadata": {},
   "outputs": [],
   "source": [
    "for x in range(0, len(fundos)):\n",
    "    l = len(quotas_fundos[x])\n",
    "    fundos['Rentabilidade diária'].iloc[x] =  quotas_fundos[x].at[l-1,'VAR_DIAR']\n",
    "    fundos['Rentabilidade YTD'].iloc[x] =  quotas_fundos[x].at[l-1,'VAR_CUMU']"
   ]
  },
  {
   "cell_type": "markdown",
   "metadata": {},
   "source": [
    "### Print do Resultado:"
   ]
  },
  {
   "cell_type": "code",
   "execution_count": 81,
   "metadata": {},
   "outputs": [
    {
     "ename": "NameError",
     "evalue": "name 'fundos' is not defined",
     "output_type": "error",
     "traceback": [
      "\u001b[0;31m---------------------------------------------------------------------------\u001b[0m",
      "\u001b[0;31mNameError\u001b[0m                                 Traceback (most recent call last)",
      "\u001b[0;32m<ipython-input-81-46f682c38551>\u001b[0m in \u001b[0;36m<module>\u001b[0;34m\u001b[0m\n\u001b[0;32m----> 1\u001b[0;31m \u001b[0mfundos\u001b[0m\u001b[0;34m\u001b[0m\u001b[0;34m\u001b[0m\u001b[0m\n\u001b[0m",
      "\u001b[0;31mNameError\u001b[0m: name 'fundos' is not defined"
     ]
    }
   ],
   "source": [
    "fundos"
   ]
  },
  {
   "cell_type": "markdown",
   "metadata": {},
   "source": [
    "### Exportar para o Excel em nova aba (\"Input\")"
   ]
  },
  {
   "cell_type": "code",
   "execution_count": null,
   "metadata": {},
   "outputs": [],
   "source": [
    "wb = load_workbook(\"Projeto Brasil Capital.xlsx\") #Abre a planilha a ser preenchida\n",
    "\n",
    "writer = pd.ExcelWriter(\"Projeto Brasil Capital.xlsx\")\n",
    "writer.book = wb\n",
    "writer.sheets = dict((ws.title, ws) for ws in wb.worksheets) # Possibilita escrever em aba já existente em caso de atualização dos dados\n",
    "\n",
    "fundos.to_excel(writer, sheet_name='Input', index = False) # Copia informações do fundo na aba \"Input\"\n",
    "writer.save()"
   ]
  },
  {
   "cell_type": "markdown",
   "metadata": {},
   "source": [
    "### Exportar para o Excel em na aba \"Projeto_2020\""
   ]
  },
  {
   "cell_type": "code",
   "execution_count": null,
   "metadata": {},
   "outputs": [],
   "source": [
    "ws = wb['Projeto_2020']\n",
    "for x in range(0, len(fundos)):\n",
    "    ws.cell(row = 12+x, column=4).value = fundos['Rentabilidade diária'].iloc[x]\n",
    "    ws.cell(row = 12+x, column=5).value = fundos['Rentabilidade YTD'].iloc[x]\n",
    "writer.save()"
   ]
  },
  {
   "cell_type": "markdown",
   "metadata": {},
   "source": [
    "---\n",
    "## Método II:\n",
    "    Extração dos dados das cotas diretamente do site das gestoras\n",
    "    \n",
    "   #### Obs.:\n",
    "\n",
    "    - Constellation não disponibiliza informações das cotas dos fundos ou rentabilidade em seu website.\n",
    "    \n",
    "    - Dynamo não possui tabelas em seu website. As ferramentas que eu tinha à disposição não me permitiram extrair essas informações dentro de um tempo razoável \n",
    "    \n",
    "    - Sqadra, Bogari e Nucleo não disponibilizam apenas rentabilidade diária\n",
    "    \n",
    "   #### Portanto, serão obtidas as rentabilidades acumuladas do Sqadra Long-Only FIC FIA, Bogari Value FIC FIA e Núcleo FIC FIAe a rentabilidade do dia do Dynamo Cougar FIA através deste método"
   ]
  },
  {
   "cell_type": "markdown",
   "metadata": {},
   "source": [
    "### Importar bibliotecas:"
   ]
  },
  {
   "cell_type": "code",
   "execution_count": 1,
   "metadata": {},
   "outputs": [],
   "source": [
    "import pandas as pd\n",
    "from pandas import ExcelWriter\n",
    "from datetime import date\n",
    "from openpyxl import load_workbook"
   ]
  },
  {
   "cell_type": "markdown",
   "metadata": {},
   "source": [
    "### Definição dos url das gestoras.\n",
    "\n"
   ]
  },
  {
   "cell_type": "code",
   "execution_count": 2,
   "metadata": {},
   "outputs": [],
   "source": [
    "asset_url = [\"https://constellation.com.br/pra-voce/acoes/\", \"http://www.squadrainvestimentos.com/fundo-longonly.aspx\", \"http://bogaricapital.com.br/fundos/fundo-modelo/\",\n",
    "               \"https://www.nucleocapital.com.br/nucleo-acoes-fic-fia.php\", \"https://www.dynamo.com.br/en\"]"
   ]
  },
  {
   "cell_type": "code",
   "execution_count": 3,
   "metadata": {},
   "outputs": [],
   "source": [
    "fundos2 = {'Nome Fundo': ['Constellation Ações FIC FIA', 'Sqadra Long-Only FIC FIA', 'Bogari Value FIC FIA', 'Núcleo FIC FIA', 'Dynamo Cougar FIA']}\n",
    "fundos2 = pd.DataFrame(fundos2, columns = ['Nome Fundo'])\n",
    "fundos2['Rentabilidade diária'] = \"\"\n",
    "fundos2['Rentabilidade YTD'] = \"\""
   ]
  },
  {
   "cell_type": "code",
   "execution_count": 78,
   "metadata": {},
   "outputs": [],
   "source": [
    "for x in range(0, len(fundos2)):\n",
    "    \n",
    "    # Cada asset é um caso diferente, pois cada website é diferente em termos de tabelas \n",
    "    # Sqadra\n",
    "    if x == 1:  \n",
    "        tables = pd.read_html(asset_url[x]) # cria um data frame com as tabelas presentes no site \n",
    "        df = tables[0]  # Utiliza-se a primeira tabela\n",
    "        df =  df.iloc[1:] # Limpa a primeira linha\n",
    "        df = df[df[0].notna()] # Deleta as linhas vazias\n",
    "        df.reset_index(drop=True,inplace=True) # Renumera os indices, para começar do 0\n",
    "        for i in range(len(df)) :\n",
    "            if(df.at[i,0]) == '2020': \n",
    "                fundos2['Rentabilidade YTD'].iloc[x] = float(str(df.at[i,13])) / 10000 # Obtém-se a rentabilidade acumulada de 2020\n",
    "                break\n",
    "                \n",
    "    # Bogari\n",
    "    if x == 2: \n",
    "        tables = pd.read_html(asset_url[x])\n",
    "        df = tables[0]  # tiliza-se a primeira tabela\n",
    "        for i in range(len(df)) :\n",
    "            if(df[df.index == i].iloc[i,0]) == '2020': \n",
    "                rentab = df[df.index == i].iloc[i,13]\n",
    "                rentab = rentab.replace(\",\",\".\") ## agora, transformando string para float e então, para porcentagem\n",
    "                rentab = rentab.replace(\"%\",\"\")\n",
    "                fundos2['Rentabilidade YTD'].iloc[x] = float(rentab) / 100\n",
    "                break      \n",
    "           \n",
    "    # Núcleo\n",
    "    if x == 3: \n",
    "        tables = pd.read_html(asset_url[x]) # cria um data frame com as tabelas presentes no site \n",
    "        df = tables[0]  # Utiliza-se a primeira tabela\n",
    "        for i in range(len(df)) :\n",
    "            if(df[df.index == i].iloc[0,0]) == 2020: \n",
    "                rentab = df[df.index == i].iloc[0,13]\n",
    "                rentab = rentab.replace(\",\",\".\") ## agora, transformando string para float e então, para porcentagem\n",
    "                rentab = rentab.replace(\"%\",\"\")\n",
    "                fundos2['Rentabilidade YTD'].iloc[3] = float(rentab) / 100\n",
    "                break"
   ]
  },
  {
   "cell_type": "code",
   "execution_count": 82,
   "metadata": {},
   "outputs": [],
   "source": [
    "### Print dos resultados:"
   ]
  },
  {
   "cell_type": "code",
   "execution_count": 79,
   "metadata": {},
   "outputs": [
    {
     "data": {
      "text/html": [
       "<div>\n",
       "<style scoped>\n",
       "    .dataframe tbody tr th:only-of-type {\n",
       "        vertical-align: middle;\n",
       "    }\n",
       "\n",
       "    .dataframe tbody tr th {\n",
       "        vertical-align: top;\n",
       "    }\n",
       "\n",
       "    .dataframe thead th {\n",
       "        text-align: right;\n",
       "    }\n",
       "</style>\n",
       "<table border=\"1\" class=\"dataframe\">\n",
       "  <thead>\n",
       "    <tr style=\"text-align: right;\">\n",
       "      <th></th>\n",
       "      <th>Nome Fundo</th>\n",
       "      <th>Rentabilidade diária</th>\n",
       "      <th>Rentabilidade YTD</th>\n",
       "    </tr>\n",
       "  </thead>\n",
       "  <tbody>\n",
       "    <tr>\n",
       "      <th>0</th>\n",
       "      <td>Constellation Ações FIC FIA</td>\n",
       "      <td></td>\n",
       "      <td></td>\n",
       "    </tr>\n",
       "    <tr>\n",
       "      <th>1</th>\n",
       "      <td>Sqadra Long-Only FIC FIA</td>\n",
       "      <td></td>\n",
       "      <td>-0.0244</td>\n",
       "    </tr>\n",
       "    <tr>\n",
       "      <th>2</th>\n",
       "      <td>Bogari Value FIC FIA</td>\n",
       "      <td></td>\n",
       "      <td>0.004</td>\n",
       "    </tr>\n",
       "    <tr>\n",
       "      <th>3</th>\n",
       "      <td>Núcleo FIC FIA</td>\n",
       "      <td></td>\n",
       "      <td>0.0651</td>\n",
       "    </tr>\n",
       "    <tr>\n",
       "      <th>4</th>\n",
       "      <td>Dynamo Cougar FIA</td>\n",
       "      <td></td>\n",
       "      <td></td>\n",
       "    </tr>\n",
       "  </tbody>\n",
       "</table>\n",
       "</div>"
      ],
      "text/plain": [
       "                    Nome Fundo Rentabilidade diária Rentabilidade YTD\n",
       "0  Constellation Ações FIC FIA                                       \n",
       "1     Sqadra Long-Only FIC FIA                                -0.0244\n",
       "2         Bogari Value FIC FIA                                  0.004\n",
       "3               Núcleo FIC FIA                                 0.0651\n",
       "4            Dynamo Cougar FIA                                       "
      ]
     },
     "execution_count": 79,
     "metadata": {},
     "output_type": "execute_result"
    }
   ],
   "source": [
    "fundos2"
   ]
  },
  {
   "cell_type": "markdown",
   "metadata": {},
   "source": [
    "### Exportar para o Excel em nova aba (\"Input\")"
   ]
  },
  {
   "cell_type": "code",
   "execution_count": 84,
   "metadata": {},
   "outputs": [],
   "source": [
    "wb = load_workbook(\"Projeto Brasil Capital.xlsx\") #Abre a planilha a ser preenchida\n",
    "\n",
    "writer = pd.ExcelWriter(\"Projeto Brasil Capital.xlsx\")\n",
    "writer.book = wb\n",
    "writer.sheets = dict((ws.title, ws) for ws in wb.worksheets) # Possibilita escrever em aba já existente em caso de atualização dos dados\n",
    "\n",
    "fundos2.to_excel(writer, sheet_name='Input', index = False) # Copia informações do fundo na aba \"Input\"\n",
    "writer.save()"
   ]
  },
  {
   "cell_type": "markdown",
   "metadata": {},
   "source": [
    "### Exportar para o Excel em na aba \"Projeto_2020\""
   ]
  },
  {
   "cell_type": "code",
   "execution_count": 88,
   "metadata": {},
   "outputs": [],
   "source": [
    "ws = wb['Projeto_2020']\n",
    "for x in range(0, len(fundos2)):\n",
    "    ws.cell(row = 12+x, column=4).value = fundos2['Rentabilidade diária'].iloc[x]\n",
    "    ws.cell(row = 12+x, column=5).value = fundos2['Rentabilidade YTD'].iloc[x]\n",
    "writer.save()"
   ]
  },
  {
   "cell_type": "code",
   "execution_count": null,
   "metadata": {},
   "outputs": [],
   "source": []
  }
 ],
 "metadata": {
  "kernelspec": {
   "display_name": "Python 3",
   "language": "python",
   "name": "python3"
  },
  "language_info": {
   "codemirror_mode": {
    "name": "ipython",
    "version": 3
   },
   "file_extension": ".py",
   "mimetype": "text/x-python",
   "name": "python",
   "nbconvert_exporter": "python",
   "pygments_lexer": "ipython3",
   "version": "3.8.5"
  }
 },
 "nbformat": 4,
 "nbformat_minor": 4
}
