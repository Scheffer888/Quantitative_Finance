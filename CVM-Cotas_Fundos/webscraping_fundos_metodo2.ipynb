{
 "cells": [
  {
   "cell_type": "markdown",
   "metadata": {},
   "source": [
    "# Projeto Webscraping: Cálculo de Rentabilidade Diária e Anual de Fundos de Ações\n",
    "\n",
    "**Autor:** Eduardo B. Scheffer\n",
    "\n",
    "**Data:** 31/08/2020\n",
    "\n",
    "**Objetivo:** Obter rentabilidade diária e YTD de uma lista de fundos de ações:\n",
    "\n",
    "* Constellation Ações FIC FIA\n",
    "* Sqadra Long-Only FIC FIA\n",
    "* Bogari Value FIC FIA\n",
    "* Núcleo FIC FIA\n",
    "* Dynamo Cougar FIA\n",
    "\n",
    "**Observação:** Abrir o arquivo \"Projeto Brasil Capital 2.xlsx\" antes de e após rodar este programa, para verificar sua funcionalidade"
   ]
  },
  {
   "cell_type": "markdown",
   "metadata": {},
   "source": [
    "---\n",
    "## Método II:\n",
    "    Extração dos dados das cotas diretamente do site das gestoras\n",
    "    \n",
    "   #### Obs.:\n",
    "\n",
    "    - Constellation não disponibiliza informações das cotas dos fundos ou rentabilidade em seu website.\n",
    "    \n",
    "    - Dynamo não possui tabelas em seu website. As ferramentas que eu tinha à disposição não me permitiram extrair essas informações dentro de um tempo razoável \n",
    "    \n",
    "    - Sqadra, Bogari e Nucleo não disponibilizam apenas rentabilidade diária\n",
    "    \n",
    "   #### Portanto, serão obtidas as rentabilidades acumuladas do Sqadra Long-Only FIC FIA, Bogari Value FIC FIA e Núcleo FIC FIAe a rentabilidade do dia do Dynamo Cougar FIA através deste método"
   ]
  },
  {
   "cell_type": "markdown",
   "metadata": {},
   "source": [
    "### Importar bibliotecas:"
   ]
  },
  {
   "cell_type": "code",
   "execution_count": 1,
   "metadata": {},
   "outputs": [],
   "source": [
    "import pandas as pd\n",
    "from pandas import ExcelWriter\n",
    "from datetime import date\n",
    "from openpyxl import load_workbook"
   ]
  },
  {
   "cell_type": "markdown",
   "metadata": {},
   "source": [
    "### Definição dos url das gestoras.\n",
    "\n"
   ]
  },
  {
   "cell_type": "code",
   "execution_count": 2,
   "metadata": {},
   "outputs": [],
   "source": [
    "asset_url = [\"https://constellation.com.br/pra-voce/acoes/\", \"http://www.squadrainvestimentos.com/fundo-longonly.aspx\", \"http://bogaricapital.com.br/fundos/fundo-modelo/\",\n",
    "               \"https://www.nucleocapital.com.br/nucleo-acoes-fic-fia.php\", \"https://www.dynamo.com.br/en\"]"
   ]
  },
  {
   "cell_type": "markdown",
   "metadata": {},
   "source": [
    "### Declaração CNPJ dos fundos:"
   ]
  },
  {
   "cell_type": "code",
   "execution_count": 3,
   "metadata": {},
   "outputs": [],
   "source": [
    "fundos2 = {'Nome Fundo': ['Constellation Ações FIC FIA', 'Sqadra Long-Only FIC FIA', 'Bogari Value FIC FIA', 'Núcleo FIC FIA', 'Dynamo Cougar FIA']}\n",
    "fundos2 = pd.DataFrame(fundos2, columns = ['Nome Fundo'])\n",
    "fundos2['Rentabilidade diária'] = \"\"\n",
    "fundos2['Rentabilidade YTD'] = \"\""
   ]
  },
  {
   "cell_type": "markdown",
   "metadata": {},
   "source": [
    "### Obtenção das rentabilidades:"
   ]
  },
  {
   "cell_type": "code",
   "execution_count": 4,
   "metadata": {},
   "outputs": [],
   "source": [
    "for x in range(0, len(fundos2)):\n",
    "    \n",
    "    # Cada asset é um caso diferente, pois cada website é diferente em termos de tabelas \n",
    "    # Sqadra\n",
    "    if x == 1:  \n",
    "        tables = pd.read_html(asset_url[x]) # cria um data frame com as tabelas presentes no site \n",
    "        df = tables[0]  # Utiliza-se a primeira tabela\n",
    "        df =  df.iloc[1:] # Limpa a primeira linha\n",
    "        df = df[df[0].notna()] # Deleta as linhas vazias\n",
    "        df.reset_index(drop=True,inplace=True) # Renumera os indices, para começar do 0\n",
    "        for i in range(len(df)) :\n",
    "            if(df.at[i,0]) == '2020': \n",
    "                fundos2['Rentabilidade YTD'].iloc[x] = float(str(df.at[i,13])) / 10000 # Obtém-se a rentabilidade acumulada de 2020\n",
    "                break\n",
    "                \n",
    "    # Bogari\n",
    "    if x == 2: \n",
    "        tables = pd.read_html(asset_url[x])\n",
    "        df = tables[0]  # tiliza-se a primeira tabela\n",
    "        for i in range(len(df)) :\n",
    "            if(df[df.index == i].iloc[i,0]) == '2020': \n",
    "                rentab = df[df.index == i].iloc[i,13]\n",
    "                rentab = rentab.replace(\",\",\".\") ## agora, transformando string para float e então, para porcentagem\n",
    "                rentab = rentab.replace(\"%\",\"\")\n",
    "                fundos2['Rentabilidade YTD'].iloc[x] = float(rentab) / 100\n",
    "                break      \n",
    "           \n",
    "    # Núcleo\n",
    "    if x == 3: \n",
    "        tables = pd.read_html(asset_url[x]) # cria um data frame com as tabelas presentes no site \n",
    "        df = tables[0]  # Utiliza-se a primeira tabela\n",
    "        for i in range(len(df)) :\n",
    "            if(df[df.index == i].iloc[0,0]) == 2020: \n",
    "                rentab = df[df.index == i].iloc[0,13]\n",
    "                rentab = rentab.replace(\",\",\".\") ## agora, transformando string para float e então, para porcentagem\n",
    "                rentab = rentab.replace(\"%\",\"\")\n",
    "                fundos2['Rentabilidade YTD'].iloc[3] = float(rentab) / 100\n",
    "                break"
   ]
  },
  {
   "cell_type": "markdown",
   "metadata": {},
   "source": [
    "### Print dos resultados:"
   ]
  },
  {
   "cell_type": "code",
   "execution_count": 5,
   "metadata": {},
   "outputs": [
    {
     "data": {
      "text/html": [
       "<div>\n",
       "<style scoped>\n",
       "    .dataframe tbody tr th:only-of-type {\n",
       "        vertical-align: middle;\n",
       "    }\n",
       "\n",
       "    .dataframe tbody tr th {\n",
       "        vertical-align: top;\n",
       "    }\n",
       "\n",
       "    .dataframe thead th {\n",
       "        text-align: right;\n",
       "    }\n",
       "</style>\n",
       "<table border=\"1\" class=\"dataframe\">\n",
       "  <thead>\n",
       "    <tr style=\"text-align: right;\">\n",
       "      <th></th>\n",
       "      <th>Nome Fundo</th>\n",
       "      <th>Rentabilidade diária</th>\n",
       "      <th>Rentabilidade YTD</th>\n",
       "    </tr>\n",
       "  </thead>\n",
       "  <tbody>\n",
       "    <tr>\n",
       "      <th>0</th>\n",
       "      <td>Constellation Ações FIC FIA</td>\n",
       "      <td></td>\n",
       "      <td></td>\n",
       "    </tr>\n",
       "    <tr>\n",
       "      <th>1</th>\n",
       "      <td>Sqadra Long-Only FIC FIA</td>\n",
       "      <td></td>\n",
       "      <td>-0.0244</td>\n",
       "    </tr>\n",
       "    <tr>\n",
       "      <th>2</th>\n",
       "      <td>Bogari Value FIC FIA</td>\n",
       "      <td></td>\n",
       "      <td>0.004</td>\n",
       "    </tr>\n",
       "    <tr>\n",
       "      <th>3</th>\n",
       "      <td>Núcleo FIC FIA</td>\n",
       "      <td></td>\n",
       "      <td>0.0651</td>\n",
       "    </tr>\n",
       "    <tr>\n",
       "      <th>4</th>\n",
       "      <td>Dynamo Cougar FIA</td>\n",
       "      <td></td>\n",
       "      <td></td>\n",
       "    </tr>\n",
       "  </tbody>\n",
       "</table>\n",
       "</div>"
      ],
      "text/plain": [
       "                    Nome Fundo Rentabilidade diária Rentabilidade YTD\n",
       "0  Constellation Ações FIC FIA                                       \n",
       "1     Sqadra Long-Only FIC FIA                                -0.0244\n",
       "2         Bogari Value FIC FIA                                  0.004\n",
       "3               Núcleo FIC FIA                                 0.0651\n",
       "4            Dynamo Cougar FIA                                       "
      ]
     },
     "execution_count": 5,
     "metadata": {},
     "output_type": "execute_result"
    }
   ],
   "source": [
    "fundos2"
   ]
  },
  {
   "cell_type": "markdown",
   "metadata": {},
   "source": [
    "### Exportar para o Excel em nova aba (\"Input\")"
   ]
  },
  {
   "cell_type": "code",
   "execution_count": 6,
   "metadata": {},
   "outputs": [],
   "source": [
    "wb = load_workbook(\"Projeto Brasil Capital 2.xlsx\") #Abre a planilha a ser preenchida\n",
    "\n",
    "writer = pd.ExcelWriter(\"Projeto Brasil Capital 2.xlsx\")\n",
    "writer.book = wb\n",
    "writer.sheets = dict((ws.title, ws) for ws in wb.worksheets) # Possibilita escrever em aba já existente em caso de atualização dos dados\n",
    "\n",
    "fundos2.to_excel(writer, sheet_name='Input', index = False) # Copia informações do fundo na aba \"Input\"\n",
    "writer.save()"
   ]
  },
  {
   "cell_type": "markdown",
   "metadata": {},
   "source": [
    "### Exportar para o Excel em na aba \"Projeto_2020\""
   ]
  },
  {
   "cell_type": "code",
   "execution_count": 8,
   "metadata": {},
   "outputs": [],
   "source": [
    "ws = wb['Projeto_2020']\n",
    "for x in range(0, len(fundos2)):\n",
    "    ws.cell(row = 12+x, column=4).value = fundos2['Rentabilidade diária'].iloc[x]\n",
    "    ws.cell(row = 12+x, column=5).value = fundos2['Rentabilidade YTD'].iloc[x]\n",
    "writer.save()"
   ]
  },
  {
   "cell_type": "code",
   "execution_count": null,
   "metadata": {},
   "outputs": [],
   "source": []
  }
 ],
 "metadata": {
  "kernelspec": {
   "display_name": "Python 3",
   "language": "python",
   "name": "python3"
  },
  "language_info": {
   "codemirror_mode": {
    "name": "ipython",
    "version": 3
   },
   "file_extension": ".py",
   "mimetype": "text/x-python",
   "name": "python",
   "nbconvert_exporter": "python",
   "pygments_lexer": "ipython3",
   "version": "3.8.5"
  }
 },
 "nbformat": 4,
 "nbformat_minor": 4
}
